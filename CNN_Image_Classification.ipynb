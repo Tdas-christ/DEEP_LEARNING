{
  "cells": [
    {
      "cell_type": "markdown",
      "metadata": {
        "id": "view-in-github",
        "colab_type": "text"
      },
      "source": [
        "<a href=\"https://colab.research.google.com/github/Tdas-christ/DEEP_LEARNING/blob/main/CNN_Image_Classification.ipynb\" target=\"_parent\"><img src=\"https://colab.research.google.com/assets/colab-badge.svg\" alt=\"Open In Colab\"/></a>"
      ]
    },
    {
      "cell_type": "code",
      "execution_count": 41,
      "id": "840dd5c0-d620-4d25-8a8f-47c335dd369a",
      "metadata": {
        "id": "840dd5c0-d620-4d25-8a8f-47c335dd369a"
      },
      "outputs": [],
      "source": [
        "import tensorflow as tf\n",
        "from tensorflow.keras.preprocessing.image import ImageDataGenerator\n",
        "from tensorflow.keras.models import Sequential\n",
        "from tensorflow.keras.layers import Conv2D, MaxPooling2D, Flatten, Dense, BatchNormalization\n",
        "from tensorflow.keras.optimizers import Adam\n",
        "from tensorflow.keras.callbacks import EarlyStopping, TensorBoard\n",
        "import matplotlib.pyplot as plt\n",
        "import random"
      ]
    },
    {
      "cell_type": "code",
      "source": [
        "from google.colab import drive\n",
        "drive.mount('/content/drive')"
      ],
      "metadata": {
        "colab": {
          "base_uri": "https://localhost:8080/"
        },
        "id": "DFsY2WbM9bNg",
        "outputId": "6ad5f709-b6b8-4cef-97ff-88795d0091ef"
      },
      "id": "DFsY2WbM9bNg",
      "execution_count": 42,
      "outputs": [
        {
          "output_type": "stream",
          "name": "stdout",
          "text": [
            "Drive already mounted at /content/drive; to attempt to forcibly remount, call drive.mount(\"/content/drive\", force_remount=True).\n"
          ]
        }
      ]
    },
    {
      "cell_type": "code",
      "execution_count": 43,
      "id": "b99555e7-cbb5-4d74-91ff-9b053b1eee2b",
      "metadata": {
        "id": "b99555e7-cbb5-4d74-91ff-9b053b1eee2b"
      },
      "outputs": [],
      "source": [
        "# Constants\n",
        "IMAGE_SIZE = (224, 224)\n",
        "BATCH_SIZE = 32\n",
        "NUM_CLASSES = 5\n",
        "NUM_EPOCHS = 5\n",
        "VALIDATION_SPLIT = 0.2  # 20% of training data will be used for validation"
      ]
    },
    {
      "cell_type": "code",
      "execution_count": 44,
      "id": "cd20c8a0-c00d-487b-9c25-398bc6b7cfac",
      "metadata": {
        "id": "cd20c8a0-c00d-487b-9c25-398bc6b7cfac"
      },
      "outputs": [],
      "source": [
        "# Data paths\n",
        "train_data = '/content/drive/MyDrive/DATASETS/Animals_Images_5_classes/Training_set'\n",
        "test_data = '/content/drive/MyDrive/DATASETS/Animals_Images_5_classes/Test_set'"
      ]
    },
    {
      "cell_type": "markdown",
      "id": "1d6c2f56-6b53-4914-b0a2-d2f653c4715c",
      "metadata": {
        "id": "1d6c2f56-6b53-4914-b0a2-d2f653c4715c"
      },
      "source": [
        "from PIL import Image\n",
        "\n",
        "random_image_path = random.choice(os.listdir('path/to/training_dataset'))\n",
        "Image.open(os.path.join('path/to/training_dataset', random_image_path)).show()"
      ]
    },
    {
      "cell_type": "code",
      "execution_count": 45,
      "id": "8b8f1574-f507-40e2-a9ef-15d9fda8fe11",
      "metadata": {
        "id": "8b8f1574-f507-40e2-a9ef-15d9fda8fe11"
      },
      "outputs": [],
      "source": [
        "# Data generator for training data with validation split\n",
        "train_datagen = ImageDataGenerator(\n",
        "    rescale=1./255,\n",
        "    validation_split=VALIDATION_SPLIT  # Set aside a portion of the training data for validation\n",
        ")"
      ]
    },
    {
      "cell_type": "code",
      "execution_count": 46,
      "id": "91b1f8b2-f78c-4f22-90d7-cfb34224be10",
      "metadata": {
        "colab": {
          "base_uri": "https://localhost:8080/"
        },
        "id": "91b1f8b2-f78c-4f22-90d7-cfb34224be10",
        "outputId": "2acc52dd-2822-4c87-b82a-a40df8b5f769"
      },
      "outputs": [
        {
          "output_type": "stream",
          "name": "stdout",
          "text": [
            "Found 250 images belonging to 5 classes.\n"
          ]
        }
      ],
      "source": [
        "# Data generator for training data\n",
        "train_datagen = ImageDataGenerator(rescale=1./255)\n",
        "train_generator = train_datagen.flow_from_directory(\n",
        "    train_data,\n",
        "    target_size=IMAGE_SIZE,\n",
        "    batch_size=BATCH_SIZE,\n",
        "    class_mode='categorical'\n",
        ")"
      ]
    },
    {
      "cell_type": "code",
      "execution_count": 47,
      "id": "22111bad-5bfb-4362-839c-15f270255afa",
      "metadata": {
        "colab": {
          "base_uri": "https://localhost:8080/"
        },
        "id": "22111bad-5bfb-4362-839c-15f270255afa",
        "outputId": "bac7ff69-60ab-4527-fd93-431a87e7bbff"
      },
      "outputs": [
        {
          "output_type": "stream",
          "name": "stdout",
          "text": [
            "Found 250 images belonging to 5 classes.\n"
          ]
        }
      ],
      "source": [
        "train_generator = train_datagen.flow_from_directory(\n",
        "    train_data,\n",
        "    target_size=IMAGE_SIZE,\n",
        "    batch_size=BATCH_SIZE,\n",
        "    class_mode='categorical',\n",
        "    subset='training'  # Specify training subset\n",
        ")"
      ]
    },
    {
      "cell_type": "code",
      "execution_count": 48,
      "id": "f12460c6-0092-4c83-81c8-4661c837c39c",
      "metadata": {
        "colab": {
          "base_uri": "https://localhost:8080/"
        },
        "id": "f12460c6-0092-4c83-81c8-4661c837c39c",
        "outputId": "16b7fb07-c71b-41ff-e802-c2cae90798d4"
      },
      "outputs": [
        {
          "output_type": "stream",
          "name": "stdout",
          "text": [
            "Found 0 images belonging to 5 classes.\n"
          ]
        }
      ],
      "source": [
        "validation_generator = train_datagen.flow_from_directory(\n",
        "    train_data,\n",
        "    target_size=IMAGE_SIZE,\n",
        "    batch_size=BATCH_SIZE,\n",
        "    class_mode='categorical',\n",
        "    subset='validation'  # Specify validation subset\n",
        ")"
      ]
    },
    {
      "cell_type": "code",
      "execution_count": 49,
      "id": "caff4761-56e4-46d4-bbe2-f6e44a7b25ab",
      "metadata": {
        "id": "caff4761-56e4-46d4-bbe2-f6e44a7b25ab"
      },
      "outputs": [],
      "source": [
        "# Model architecture\n",
        "model = Sequential([\n",
        "    Conv2D(32, (3, 3), activation='relu', input_shape=(IMAGE_SIZE[0], IMAGE_SIZE[1], 3)),\n",
        "    BatchNormalization(),\n",
        "    MaxPooling2D((2, 2)),\n",
        "    Conv2D(64, (3, 3), activation='relu'),\n",
        "    BatchNormalization(),\n",
        "    MaxPooling2D((2, 2)),\n",
        "    Conv2D(128, (3, 3), activation='relu'),\n",
        "    BatchNormalization(),\n",
        "    MaxPooling2D((2, 2)),\n",
        "    Flatten(),\n",
        "    Dense(512, activation='relu'),\n",
        "    Dense(NUM_CLASSES, activation='softmax')\n",
        "])"
      ]
    },
    {
      "cell_type": "code",
      "execution_count": 50,
      "id": "76d87f78-2d2f-435b-8b24-d3f19ca5dd20",
      "metadata": {
        "id": "76d87f78-2d2f-435b-8b24-d3f19ca5dd20"
      },
      "outputs": [],
      "source": [
        "# Compile model\n",
        "model.compile(optimizer=Adam(), loss='categorical_crossentropy', metrics=['accuracy'])"
      ]
    },
    {
      "cell_type": "code",
      "execution_count": 51,
      "id": "52dec1a0-1eac-47f0-8883-f9f5d9055bd8",
      "metadata": {
        "id": "52dec1a0-1eac-47f0-8883-f9f5d9055bd8"
      },
      "outputs": [],
      "source": [
        "# Define callbacks\n",
        "callbacks = [\n",
        "    EarlyStopping(patience=3, monitor='val_loss'),  # Early stopping based on validation loss\n",
        "    TensorBoard(log_dir='./logs')\n",
        "]"
      ]
    },
    {
      "cell_type": "code",
      "execution_count": 52,
      "id": "14109627-6b2e-4ea0-9761-e4f94e028010",
      "metadata": {
        "scrolled": true,
        "colab": {
          "base_uri": "https://localhost:8080/"
        },
        "id": "14109627-6b2e-4ea0-9761-e4f94e028010",
        "outputId": "dbd0511f-3f81-43e7-f9f5-ce817dd3b451"
      },
      "outputs": [
        {
          "output_type": "stream",
          "name": "stdout",
          "text": [
            "Epoch 1/5\n",
            "7/7 [==============================] - ETA: 0s - loss: 70.0630 - accuracy: 0.2523"
          ]
        },
        {
          "output_type": "stream",
          "name": "stderr",
          "text": [
            "WARNING:tensorflow:Early stopping conditioned on metric `val_loss` which is not available. Available metrics are: loss,accuracy\n"
          ]
        },
        {
          "output_type": "stream",
          "name": "stdout",
          "text": [
            "\b\b\b\b\b\b\b\b\b\b\b\b\b\b\b\b\b\b\b\b\b\b\b\b\b\b\b\b\b\b\b\b\b\b\b\b\b\b\b\b\b\b\b\b\b\b\b\b\b\b\b\b\b\b\b\b\b\b\b\b\b\b\b\b\b\b\b\b\b\b\b\b\b\b\b\b\b\b\b\b\b\r7/7 [==============================] - 3s 106ms/step - loss: 70.0630 - accuracy: 0.2523\n",
            "Epoch 2/5\n",
            "7/7 [==============================] - ETA: 0s - loss: 17.5273 - accuracy: 0.4908"
          ]
        },
        {
          "output_type": "stream",
          "name": "stderr",
          "text": [
            "WARNING:tensorflow:Early stopping conditioned on metric `val_loss` which is not available. Available metrics are: loss,accuracy\n"
          ]
        },
        {
          "output_type": "stream",
          "name": "stdout",
          "text": [
            "\b\b\b\b\b\b\b\b\b\b\b\b\b\b\b\b\b\b\b\b\b\b\b\b\b\b\b\b\b\b\b\b\b\b\b\b\b\b\b\b\b\b\b\b\b\b\b\b\b\b\b\b\b\b\b\b\b\b\b\b\b\b\b\b\b\b\b\b\b\b\b\b\b\b\b\b\b\b\b\b\b\r7/7 [==============================] - 1s 135ms/step - loss: 17.5273 - accuracy: 0.4908\n",
            "Epoch 3/5\n",
            "7/7 [==============================] - ETA: 0s - loss: 6.1754 - accuracy: 0.7156"
          ]
        },
        {
          "output_type": "stream",
          "name": "stderr",
          "text": [
            "WARNING:tensorflow:Early stopping conditioned on metric `val_loss` which is not available. Available metrics are: loss,accuracy\n"
          ]
        },
        {
          "output_type": "stream",
          "name": "stdout",
          "text": [
            "\b\b\b\b\b\b\b\b\b\b\b\b\b\b\b\b\b\b\b\b\b\b\b\b\b\b\b\b\b\b\b\b\b\b\b\b\b\b\b\b\b\b\b\b\b\b\b\b\b\b\b\b\b\b\b\b\b\b\b\b\b\b\b\b\b\b\b\b\b\b\b\b\b\b\b\b\b\b\b\b\r7/7 [==============================] - 1s 135ms/step - loss: 6.1754 - accuracy: 0.7156\n",
            "Epoch 4/5\n",
            "7/7 [==============================] - ETA: 0s - loss: 3.1876 - accuracy: 0.7890"
          ]
        },
        {
          "output_type": "stream",
          "name": "stderr",
          "text": [
            "WARNING:tensorflow:Early stopping conditioned on metric `val_loss` which is not available. Available metrics are: loss,accuracy\n"
          ]
        },
        {
          "output_type": "stream",
          "name": "stdout",
          "text": [
            "\b\b\b\b\b\b\b\b\b\b\b\b\b\b\b\b\b\b\b\b\b\b\b\b\b\b\b\b\b\b\b\b\b\b\b\b\b\b\b\b\b\b\b\b\b\b\b\b\b\b\b\b\b\b\b\b\b\b\b\b\b\b\b\b\b\b\b\b\b\b\b\b\b\b\b\b\b\b\b\b\r7/7 [==============================] - 1s 141ms/step - loss: 3.1876 - accuracy: 0.7890\n",
            "Epoch 5/5\n",
            "7/7 [==============================] - ETA: 0s - loss: 2.6115 - accuracy: 0.8532"
          ]
        },
        {
          "output_type": "stream",
          "name": "stderr",
          "text": [
            "WARNING:tensorflow:Early stopping conditioned on metric `val_loss` which is not available. Available metrics are: loss,accuracy\n"
          ]
        },
        {
          "output_type": "stream",
          "name": "stdout",
          "text": [
            "\b\b\b\b\b\b\b\b\b\b\b\b\b\b\b\b\b\b\b\b\b\b\b\b\b\b\b\b\b\b\b\b\b\b\b\b\b\b\b\b\b\b\b\b\b\b\b\b\b\b\b\b\b\b\b\b\b\b\b\b\b\b\b\b\b\b\b\b\b\b\b\b\b\b\b\b\b\b\b\b\r7/7 [==============================] - 1s 138ms/step - loss: 2.6115 - accuracy: 0.8532\n"
          ]
        }
      ],
      "source": [
        "history = model.fit(\n",
        "    train_generator,\n",
        "    steps_per_epoch=train_generator.samples // BATCH_SIZE,\n",
        "    epochs=NUM_EPOCHS,\n",
        "    validation_data=validation_generator,  # Include validation data here\n",
        "    validation_steps=validation_generator.samples // BATCH_SIZE,\n",
        "    callbacks=callbacks\n",
        ")"
      ]
    },
    {
      "cell_type": "code",
      "source": [
        "print(history.history.keys())"
      ],
      "metadata": {
        "colab": {
          "base_uri": "https://localhost:8080/"
        },
        "id": "xRwfyk-gGWHG",
        "outputId": "a16a792a-7f4d-4325-85a9-37e46da7f10b"
      },
      "id": "xRwfyk-gGWHG",
      "execution_count": 53,
      "outputs": [
        {
          "output_type": "stream",
          "name": "stdout",
          "text": [
            "dict_keys(['loss', 'accuracy'])\n"
          ]
        }
      ]
    },
    {
      "cell_type": "code",
      "execution_count": 54,
      "id": "c8e25cc6-1674-4661-bb6c-5ce4cee6fbbd",
      "metadata": {
        "colab": {
          "base_uri": "https://localhost:8080/",
          "height": 542
        },
        "id": "c8e25cc6-1674-4661-bb6c-5ce4cee6fbbd",
        "outputId": "676c34b2-76f1-4e58-94ad-6a28d49f593d"
      },
      "outputs": [
        {
          "output_type": "display_data",
          "data": {
            "text/plain": [
              "<Figure size 1200x600 with 2 Axes>"
            ],
            "image/png": "[encoded data removed]"
          },
          "metadata": {}
        }
      ],
      "source": [
        "# Plot training and validation accuracy and loss\n",
        "plt.figure(figsize=(12, 6))\n",
        "plt.subplot(1, 2, 1)\n",
        "plt.plot(history.history['accuracy'], label='Training Accuracy')\n",
        "plt.xlabel('Epoch')\n",
        "plt.ylabel('Accuracy')\n",
        "plt.legend()\n",
        "\n",
        "plt.subplot(1, 2, 2)\n",
        "plt.plot(history.history['loss'], label='Training Loss')\n",
        "plt.xlabel('Epoch')\n",
        "plt.ylabel('Loss')\n",
        "plt.legend()\n",
        "plt.show()"
      ]
    },
    {
      "cell_type": "code",
      "execution_count": null,
      "id": "b05056b7-6308-413b-abc5-3857f3081780",
      "metadata": {
        "colab": {
          "base_uri": "https://localhost:8080/"
        },
        "id": "b05056b7-6308-413b-abc5-3857f3081780",
        "outputId": "c36201ce-f03f-4b2a-ebba-783e12e1d68e"
      },
      "outputs": [
        {
          "output_type": "stream",
          "name": "stdout",
          "text": [
            "Found 117 images belonging to 5 classes.\n",
            "3/4 [=====================>........] - ETA: 16s - loss: 46.0292 - accuracy: 0.2083"
          ]
        }
      ],
      "source": [
        "# Evaluate model on test set\n",
        "test_datagen = ImageDataGenerator(rescale=1./255)\n",
        "test_generator = test_datagen.flow_from_directory(\n",
        "    test_data,\n",
        "    target_size=IMAGE_SIZE,\n",
        "    batch_size=BATCH_SIZE,\n",
        "    class_mode='categorical'\n",
        ")\n",
        "test_loss, test_accuracy = model.evaluate(test_generator)\n",
        "print(\"Test Loss:\", test_loss)\n",
        "print(\"Test Accuracy:\", test_accuracy)"
      ]
    }
  ],
  "metadata": {
    "kernelspec": {
      "display_name": "Python 3",
      "name": "python3"
    },
    "language_info": {
      "codemirror_mode": {
        "name": "ipython",
        "version": 3
      },
      "file_extension": ".py",
      "mimetype": "text/x-python",
      "name": "python",
      "nbconvert_exporter": "python",
      "pygments_lexer": "ipython3",
      "version": "3.11.5"
    },
    "colab": {
      "provenance": [],
      "gpuType": "T4",
      "include_colab_link": true
    },
    "accelerator": "GPU"
  },
  "nbformat": 4,
  "nbformat_minor": 5
}