{
 "cells": [
  {
   "cell_type": "code",
   "execution_count": 1,
   "id": "473b5b20-9592-4535-a530-5fd3dbdc0057",
   "metadata": {},
   "outputs": [
    {
     "name": "stderr",
     "output_type": "stream",
     "text": [
      "2024-02-26 07:28:38.159159: I tensorflow/core/platform/cpu_feature_guard.cc:182] This TensorFlow binary is optimized to use available CPU instructions in performance-critical operations.\n",
      "To enable the following instructions: SSE4.1 SSE4.2 AVX AVX2 FMA, in other operations, rebuild TensorFlow with the appropriate compiler flags.\n"
     ]
    }
   ],
   "source": [
    "import numpy as np\n",
    "import pandas as pd\n",
    "from sklearn.model_selection import train_test_split\n",
    "from sklearn.preprocessing import StandardScaler, LabelEncoder\n",
    "from sklearn.metrics import accuracy_score, precision_score, recall_score, f1_score, roc_auc_score, confusion_matrix, precision_recall_curve\n",
    "import tensorflow as tf\n",
    "from tensorflow import keras\n",
    "from tensorflow.keras import layers"
   ]
  },
  {
   "cell_type": "code",
   "execution_count": 2,
   "id": "8883fc97-697d-475d-872c-5d4c629de39d",
   "metadata": {},
   "outputs": [
    {
     "name": "stdout",
     "output_type": "stream",
     "text": [
      "Requirement already satisfied: imblearn in /home/administrator/.local/share/anaconda3/envs/deeplearning/lib/python3.11/site-packages (0.0)\n",
      "Requirement already satisfied: imbalanced-learn in /home/administrator/.local/share/anaconda3/envs/deeplearning/lib/python3.11/site-packages (from imblearn) (0.12.0)\n",
      "Requirement already satisfied: numpy>=1.17.3 in /home/administrator/.local/share/anaconda3/envs/deeplearning/lib/python3.11/site-packages (from imbalanced-learn->imblearn) (1.23.5)\n",
      "Requirement already satisfied: scipy>=1.5.0 in /home/administrator/.local/share/anaconda3/envs/deeplearning/lib/python3.11/site-packages (from imbalanced-learn->imblearn) (1.11.4)\n",
      "Requirement already satisfied: scikit-learn>=1.0.2 in /home/administrator/.local/share/anaconda3/envs/deeplearning/lib/python3.11/site-packages (from imbalanced-learn->imblearn) (1.3.0)\n",
      "Requirement already satisfied: joblib>=1.1.1 in /home/administrator/.local/share/anaconda3/envs/deeplearning/lib/python3.11/site-packages (from imbalanced-learn->imblearn) (1.2.0)\n",
      "Requirement already satisfied: threadpoolctl>=2.0.0 in /home/administrator/.local/share/anaconda3/envs/deeplearning/lib/python3.11/site-packages (from imbalanced-learn->imblearn) (2.2.0)\n",
      "Note: you may need to restart the kernel to use updated packages.\n"
     ]
    }
   ],
   "source": [
    "pip install imblearn"
   ]
  },
  {
   "cell_type": "code",
   "execution_count": 3,
   "id": "ff0644d6-27f1-4fb7-a44a-f71bdf798498",
   "metadata": {},
   "outputs": [
    {
     "data": {
      "text/html": [
       "<div>\n",
       "<style scoped>\n",
       "    .dataframe tbody tr th:only-of-type {\n",
       "        vertical-align: middle;\n",
       "    }\n",
       "\n",
       "    .dataframe tbody tr th {\n",
       "        vertical-align: top;\n",
       "    }\n",
       "\n",
       "    .dataframe thead th {\n",
       "        text-align: right;\n",
       "    }\n",
       "</style>\n",
       "<table border=\"1\" class=\"dataframe\">\n",
       "  <thead>\n",
       "    <tr style=\"text-align: right;\">\n",
       "      <th></th>\n",
       "      <th>step</th>\n",
       "      <th>type</th>\n",
       "      <th>amount</th>\n",
       "      <th>nameOrig</th>\n",
       "      <th>oldbalanceOrg</th>\n",
       "      <th>newbalanceOrig</th>\n",
       "      <th>nameDest</th>\n",
       "      <th>oldbalanceDest</th>\n",
       "      <th>newbalanceDest</th>\n",
       "      <th>isFraud</th>\n",
       "      <th>isFlaggedFraud</th>\n",
       "    </tr>\n",
       "  </thead>\n",
       "  <tbody>\n",
       "    <tr>\n",
       "      <th>0</th>\n",
       "      <td>1</td>\n",
       "      <td>PAYMENT</td>\n",
       "      <td>9839.64</td>\n",
       "      <td>C1231006815</td>\n",
       "      <td>170136.0</td>\n",
       "      <td>160296.36</td>\n",
       "      <td>M1979787155</td>\n",
       "      <td>0.0</td>\n",
       "      <td>0.0</td>\n",
       "      <td>0</td>\n",
       "      <td>0</td>\n",
       "    </tr>\n",
       "    <tr>\n",
       "      <th>1</th>\n",
       "      <td>1</td>\n",
       "      <td>PAYMENT</td>\n",
       "      <td>1864.28</td>\n",
       "      <td>C1666544295</td>\n",
       "      <td>21249.0</td>\n",
       "      <td>19384.72</td>\n",
       "      <td>M2044282225</td>\n",
       "      <td>0.0</td>\n",
       "      <td>0.0</td>\n",
       "      <td>0</td>\n",
       "      <td>0</td>\n",
       "    </tr>\n",
       "    <tr>\n",
       "      <th>2</th>\n",
       "      <td>1</td>\n",
       "      <td>TRANSFER</td>\n",
       "      <td>181.00</td>\n",
       "      <td>C1305486145</td>\n",
       "      <td>181.0</td>\n",
       "      <td>0.00</td>\n",
       "      <td>C553264065</td>\n",
       "      <td>0.0</td>\n",
       "      <td>0.0</td>\n",
       "      <td>1</td>\n",
       "      <td>0</td>\n",
       "    </tr>\n",
       "    <tr>\n",
       "      <th>3</th>\n",
       "      <td>1</td>\n",
       "      <td>CASH_OUT</td>\n",
       "      <td>181.00</td>\n",
       "      <td>C840083671</td>\n",
       "      <td>181.0</td>\n",
       "      <td>0.00</td>\n",
       "      <td>C38997010</td>\n",
       "      <td>21182.0</td>\n",
       "      <td>0.0</td>\n",
       "      <td>1</td>\n",
       "      <td>0</td>\n",
       "    </tr>\n",
       "    <tr>\n",
       "      <th>4</th>\n",
       "      <td>1</td>\n",
       "      <td>PAYMENT</td>\n",
       "      <td>11668.14</td>\n",
       "      <td>C2048537720</td>\n",
       "      <td>41554.0</td>\n",
       "      <td>29885.86</td>\n",
       "      <td>M1230701703</td>\n",
       "      <td>0.0</td>\n",
       "      <td>0.0</td>\n",
       "      <td>0</td>\n",
       "      <td>0</td>\n",
       "    </tr>\n",
       "  </tbody>\n",
       "</table>\n",
       "</div>"
      ],
      "text/plain": [
       "   step      type    amount     nameOrig  oldbalanceOrg  newbalanceOrig  \\\n",
       "0     1   PAYMENT   9839.64  C1231006815       170136.0       160296.36   \n",
       "1     1   PAYMENT   1864.28  C1666544295        21249.0        19384.72   \n",
       "2     1  TRANSFER    181.00  C1305486145          181.0            0.00   \n",
       "3     1  CASH_OUT    181.00   C840083671          181.0            0.00   \n",
       "4     1   PAYMENT  11668.14  C2048537720        41554.0        29885.86   \n",
       "\n",
       "      nameDest  oldbalanceDest  newbalanceDest  isFraud  isFlaggedFraud  \n",
       "0  M1979787155             0.0             0.0        0               0  \n",
       "1  M2044282225             0.0             0.0        0               0  \n",
       "2   C553264065             0.0             0.0        1               0  \n",
       "3    C38997010         21182.0             0.0        1               0  \n",
       "4  M1230701703             0.0             0.0        0               0  "
      ]
     },
     "execution_count": 3,
     "metadata": {},
     "output_type": "execute_result"
    }
   ],
   "source": [
    "# Load the dataset\n",
    "df = pd.read_csv('/home/administrator/Documents/PROGRAMMING/ML/Datasets/Fraud.csv')\n",
    "df.head()"
   ]
  },
  {
   "cell_type": "code",
   "execution_count": 4,
   "id": "ea99b918-2ab1-4b75-abbb-30c4a692f6f8",
   "metadata": {},
   "outputs": [
    {
     "data": {
      "text/plain": [
       "step              0\n",
       "type              0\n",
       "amount            0\n",
       "nameOrig          0\n",
       "oldbalanceOrg     0\n",
       "newbalanceOrig    0\n",
       "nameDest          0\n",
       "oldbalanceDest    0\n",
       "newbalanceDest    0\n",
       "isFraud           0\n",
       "isFlaggedFraud    0\n",
       "dtype: int64"
      ]
     },
     "execution_count": 4,
     "metadata": {},
     "output_type": "execute_result"
    }
   ],
   "source": [
    "df.isnull().sum() #There are no missing values present in the dataset"
   ]
  },
  {
   "cell_type": "code",
   "execution_count": 5,
   "id": "f05b663c-ab43-443c-9340-6a56a270bdd6",
   "metadata": {},
   "outputs": [
    {
     "data": {
      "text/plain": [
       "(6362620, 11)"
      ]
     },
     "execution_count": 5,
     "metadata": {},
     "output_type": "execute_result"
    }
   ],
   "source": [
    "df.shape"
   ]
  },
  {
   "cell_type": "code",
   "execution_count": 6,
   "id": "34565267-95e2-4241-8dc2-62a834a19b38",
   "metadata": {},
   "outputs": [
    {
     "name": "stdout",
     "output_type": "stream",
     "text": [
      "step                int64\n",
      "type               object\n",
      "amount            float64\n",
      "nameOrig           object\n",
      "oldbalanceOrg     float64\n",
      "newbalanceOrig    float64\n",
      "nameDest           object\n",
      "oldbalanceDest    float64\n",
      "newbalanceDest    float64\n",
      "isFraud             int64\n",
      "isFlaggedFraud      int64\n",
      "dtype: object\n"
     ]
    }
   ],
   "source": [
    "print(df.dtypes)"
   ]
  },
  {
   "cell_type": "code",
   "execution_count": 7,
   "id": "02b47d14-dd57-4381-a31b-0cd6d134e054",
   "metadata": {},
   "outputs": [],
   "source": [
    "df = df.drop(columns=['step', 'isFlaggedFraud', 'nameOrig', 'nameDest'], axis = 1) #These attributes are not required moving forward"
   ]
  },
  {
   "cell_type": "code",
   "execution_count": 8,
   "id": "b9a8642b-5a24-4e11-8a64-35a76af932b6",
   "metadata": {},
   "outputs": [
    {
     "data": {
      "text/html": [
       "<div>\n",
       "<style scoped>\n",
       "    .dataframe tbody tr th:only-of-type {\n",
       "        vertical-align: middle;\n",
       "    }\n",
       "\n",
       "    .dataframe tbody tr th {\n",
       "        vertical-align: top;\n",
       "    }\n",
       "\n",
       "    .dataframe thead th {\n",
       "        text-align: right;\n",
       "    }\n",
       "</style>\n",
       "<table border=\"1\" class=\"dataframe\">\n",
       "  <thead>\n",
       "    <tr style=\"text-align: right;\">\n",
       "      <th></th>\n",
       "      <th>type</th>\n",
       "      <th>amount</th>\n",
       "      <th>oldbalanceOrg</th>\n",
       "      <th>newbalanceOrig</th>\n",
       "      <th>oldbalanceDest</th>\n",
       "      <th>newbalanceDest</th>\n",
       "      <th>isFraud</th>\n",
       "    </tr>\n",
       "  </thead>\n",
       "  <tbody>\n",
       "    <tr>\n",
       "      <th>3230979</th>\n",
       "      <td>PAYMENT</td>\n",
       "      <td>49129.37</td>\n",
       "      <td>0.00</td>\n",
       "      <td>0.00</td>\n",
       "      <td>0.00</td>\n",
       "      <td>0.00</td>\n",
       "      <td>0</td>\n",
       "    </tr>\n",
       "    <tr>\n",
       "      <th>2075316</th>\n",
       "      <td>CASH_OUT</td>\n",
       "      <td>461488.02</td>\n",
       "      <td>86094.00</td>\n",
       "      <td>0.00</td>\n",
       "      <td>271754.48</td>\n",
       "      <td>733242.50</td>\n",
       "      <td>0</td>\n",
       "    </tr>\n",
       "    <tr>\n",
       "      <th>164355</th>\n",
       "      <td>CASH_IN</td>\n",
       "      <td>174226.21</td>\n",
       "      <td>719034.92</td>\n",
       "      <td>893261.14</td>\n",
       "      <td>802530.53</td>\n",
       "      <td>628304.31</td>\n",
       "      <td>0</td>\n",
       "    </tr>\n",
       "    <tr>\n",
       "      <th>2338744</th>\n",
       "      <td>CASH_IN</td>\n",
       "      <td>183007.08</td>\n",
       "      <td>806268.90</td>\n",
       "      <td>989275.98</td>\n",
       "      <td>1263463.57</td>\n",
       "      <td>1080456.49</td>\n",
       "      <td>0</td>\n",
       "    </tr>\n",
       "    <tr>\n",
       "      <th>4203154</th>\n",
       "      <td>PAYMENT</td>\n",
       "      <td>77524.93</td>\n",
       "      <td>30949.00</td>\n",
       "      <td>0.00</td>\n",
       "      <td>0.00</td>\n",
       "      <td>0.00</td>\n",
       "      <td>0</td>\n",
       "    </tr>\n",
       "    <tr>\n",
       "      <th>71869</th>\n",
       "      <td>CASH_IN</td>\n",
       "      <td>217951.41</td>\n",
       "      <td>4892988.54</td>\n",
       "      <td>5110939.95</td>\n",
       "      <td>343788.42</td>\n",
       "      <td>1930417.62</td>\n",
       "      <td>0</td>\n",
       "    </tr>\n",
       "    <tr>\n",
       "      <th>708256</th>\n",
       "      <td>CASH_IN</td>\n",
       "      <td>97672.24</td>\n",
       "      <td>2596167.62</td>\n",
       "      <td>2693839.86</td>\n",
       "      <td>814120.92</td>\n",
       "      <td>509128.75</td>\n",
       "      <td>0</td>\n",
       "    </tr>\n",
       "    <tr>\n",
       "      <th>315490</th>\n",
       "      <td>CASH_IN</td>\n",
       "      <td>21236.66</td>\n",
       "      <td>9589223.81</td>\n",
       "      <td>9610460.48</td>\n",
       "      <td>193608.14</td>\n",
       "      <td>101260.97</td>\n",
       "      <td>0</td>\n",
       "    </tr>\n",
       "    <tr>\n",
       "      <th>1642442</th>\n",
       "      <td>CASH_OUT</td>\n",
       "      <td>156976.31</td>\n",
       "      <td>39442.00</td>\n",
       "      <td>0.00</td>\n",
       "      <td>94751.63</td>\n",
       "      <td>251727.94</td>\n",
       "      <td>0</td>\n",
       "    </tr>\n",
       "    <tr>\n",
       "      <th>3957327</th>\n",
       "      <td>CASH_OUT</td>\n",
       "      <td>70853.67</td>\n",
       "      <td>0.00</td>\n",
       "      <td>0.00</td>\n",
       "      <td>9067214.94</td>\n",
       "      <td>9138068.62</td>\n",
       "      <td>0</td>\n",
       "    </tr>\n",
       "  </tbody>\n",
       "</table>\n",
       "</div>"
      ],
      "text/plain": [
       "             type     amount  oldbalanceOrg  newbalanceOrig  oldbalanceDest  \\\n",
       "3230979   PAYMENT   49129.37           0.00            0.00            0.00   \n",
       "2075316  CASH_OUT  461488.02       86094.00            0.00       271754.48   \n",
       "164355    CASH_IN  174226.21      719034.92       893261.14       802530.53   \n",
       "2338744   CASH_IN  183007.08      806268.90       989275.98      1263463.57   \n",
       "4203154   PAYMENT   77524.93       30949.00            0.00            0.00   \n",
       "71869     CASH_IN  217951.41     4892988.54      5110939.95       343788.42   \n",
       "708256    CASH_IN   97672.24     2596167.62      2693839.86       814120.92   \n",
       "315490    CASH_IN   21236.66     9589223.81      9610460.48       193608.14   \n",
       "1642442  CASH_OUT  156976.31       39442.00            0.00        94751.63   \n",
       "3957327  CASH_OUT   70853.67           0.00            0.00      9067214.94   \n",
       "\n",
       "         newbalanceDest  isFraud  \n",
       "3230979            0.00        0  \n",
       "2075316       733242.50        0  \n",
       "164355        628304.31        0  \n",
       "2338744      1080456.49        0  \n",
       "4203154            0.00        0  \n",
       "71869        1930417.62        0  \n",
       "708256        509128.75        0  \n",
       "315490        101260.97        0  \n",
       "1642442       251727.94        0  \n",
       "3957327      9138068.62        0  "
      ]
     },
     "execution_count": 8,
     "metadata": {},
     "output_type": "execute_result"
    }
   ],
   "source": [
    "df.sample(10)"
   ]
  },
  {
   "cell_type": "code",
   "execution_count": 11,
   "id": "4d4da651-cd56-432b-acab-a3be67c2f470",
   "metadata": {},
   "outputs": [
    {
     "data": {
      "text/plain": [
       "isFraud\n",
       "0    6354407\n",
       "1       8213\n",
       "Name: count, dtype: int64"
      ]
     },
     "execution_count": 11,
     "metadata": {},
     "output_type": "execute_result"
    }
   ],
   "source": [
    "df['isFraud'].value_counts() #Checking if there is a class imbalance in the target variable"
   ]
  },
  {
   "cell_type": "code",
   "execution_count": 12,
   "id": "c81c7ece-96f4-4fb7-8016-31d5a76295b9",
   "metadata": {},
   "outputs": [],
   "source": [
    "le = LabelEncoder()\n",
    "df['type'] = le.fit_transform(df['type']) #Label Encoding attribute 'type' so that we can apply SMOTE"
   ]
  },
  {
   "cell_type": "code",
   "execution_count": 13,
   "id": "2b80f673-3ce9-4225-ab6b-3d948fa68b0f",
   "metadata": {},
   "outputs": [
    {
     "data": {
      "text/html": [
       "<div>\n",
       "<style scoped>\n",
       "    .dataframe tbody tr th:only-of-type {\n",
       "        vertical-align: middle;\n",
       "    }\n",
       "\n",
       "    .dataframe tbody tr th {\n",
       "        vertical-align: top;\n",
       "    }\n",
       "\n",
       "    .dataframe thead th {\n",
       "        text-align: right;\n",
       "    }\n",
       "</style>\n",
       "<table border=\"1\" class=\"dataframe\">\n",
       "  <thead>\n",
       "    <tr style=\"text-align: right;\">\n",
       "      <th></th>\n",
       "      <th>type</th>\n",
       "      <th>amount</th>\n",
       "      <th>oldbalanceOrg</th>\n",
       "      <th>newbalanceOrig</th>\n",
       "      <th>oldbalanceDest</th>\n",
       "      <th>newbalanceDest</th>\n",
       "      <th>isFraud</th>\n",
       "    </tr>\n",
       "  </thead>\n",
       "  <tbody>\n",
       "    <tr>\n",
       "      <th>2549264</th>\n",
       "      <td>4</td>\n",
       "      <td>123389.79</td>\n",
       "      <td>0.0</td>\n",
       "      <td>0.00</td>\n",
       "      <td>387362.83</td>\n",
       "      <td>510752.62</td>\n",
       "      <td>0</td>\n",
       "    </tr>\n",
       "    <tr>\n",
       "      <th>4763088</th>\n",
       "      <td>3</td>\n",
       "      <td>7648.29</td>\n",
       "      <td>51516.0</td>\n",
       "      <td>43867.71</td>\n",
       "      <td>0.00</td>\n",
       "      <td>0.00</td>\n",
       "      <td>0</td>\n",
       "    </tr>\n",
       "    <tr>\n",
       "      <th>2580472</th>\n",
       "      <td>3</td>\n",
       "      <td>3395.35</td>\n",
       "      <td>0.0</td>\n",
       "      <td>0.00</td>\n",
       "      <td>0.00</td>\n",
       "      <td>0.00</td>\n",
       "      <td>0</td>\n",
       "    </tr>\n",
       "    <tr>\n",
       "      <th>853077</th>\n",
       "      <td>1</td>\n",
       "      <td>121825.05</td>\n",
       "      <td>0.0</td>\n",
       "      <td>0.00</td>\n",
       "      <td>2014607.33</td>\n",
       "      <td>2136432.39</td>\n",
       "      <td>0</td>\n",
       "    </tr>\n",
       "    <tr>\n",
       "      <th>3053512</th>\n",
       "      <td>4</td>\n",
       "      <td>148606.12</td>\n",
       "      <td>487698.0</td>\n",
       "      <td>339091.88</td>\n",
       "      <td>328257.32</td>\n",
       "      <td>476863.44</td>\n",
       "      <td>0</td>\n",
       "    </tr>\n",
       "    <tr>\n",
       "      <th>1700883</th>\n",
       "      <td>1</td>\n",
       "      <td>42385.10</td>\n",
       "      <td>0.0</td>\n",
       "      <td>0.00</td>\n",
       "      <td>319588.31</td>\n",
       "      <td>361973.40</td>\n",
       "      <td>0</td>\n",
       "    </tr>\n",
       "    <tr>\n",
       "      <th>3391739</th>\n",
       "      <td>0</td>\n",
       "      <td>173538.19</td>\n",
       "      <td>8904943.0</td>\n",
       "      <td>9078481.19</td>\n",
       "      <td>991262.53</td>\n",
       "      <td>817724.35</td>\n",
       "      <td>0</td>\n",
       "    </tr>\n",
       "    <tr>\n",
       "      <th>2428212</th>\n",
       "      <td>3</td>\n",
       "      <td>4697.05</td>\n",
       "      <td>0.0</td>\n",
       "      <td>0.00</td>\n",
       "      <td>0.00</td>\n",
       "      <td>0.00</td>\n",
       "      <td>0</td>\n",
       "    </tr>\n",
       "    <tr>\n",
       "      <th>1830914</th>\n",
       "      <td>1</td>\n",
       "      <td>230409.31</td>\n",
       "      <td>28.0</td>\n",
       "      <td>0.00</td>\n",
       "      <td>20567.00</td>\n",
       "      <td>250976.31</td>\n",
       "      <td>0</td>\n",
       "    </tr>\n",
       "    <tr>\n",
       "      <th>1305892</th>\n",
       "      <td>4</td>\n",
       "      <td>477078.52</td>\n",
       "      <td>0.0</td>\n",
       "      <td>0.00</td>\n",
       "      <td>1020952.73</td>\n",
       "      <td>1082189.73</td>\n",
       "      <td>0</td>\n",
       "    </tr>\n",
       "  </tbody>\n",
       "</table>\n",
       "</div>"
      ],
      "text/plain": [
       "         type     amount  oldbalanceOrg  newbalanceOrig  oldbalanceDest  \\\n",
       "2549264     4  123389.79            0.0            0.00       387362.83   \n",
       "4763088     3    7648.29        51516.0        43867.71            0.00   \n",
       "2580472     3    3395.35            0.0            0.00            0.00   \n",
       "853077      1  121825.05            0.0            0.00      2014607.33   \n",
       "3053512     4  148606.12       487698.0       339091.88       328257.32   \n",
       "1700883     1   42385.10            0.0            0.00       319588.31   \n",
       "3391739     0  173538.19      8904943.0      9078481.19       991262.53   \n",
       "2428212     3    4697.05            0.0            0.00            0.00   \n",
       "1830914     1  230409.31           28.0            0.00        20567.00   \n",
       "1305892     4  477078.52            0.0            0.00      1020952.73   \n",
       "\n",
       "         newbalanceDest  isFraud  \n",
       "2549264       510752.62        0  \n",
       "4763088            0.00        0  \n",
       "2580472            0.00        0  \n",
       "853077       2136432.39        0  \n",
       "3053512       476863.44        0  \n",
       "1700883       361973.40        0  \n",
       "3391739       817724.35        0  \n",
       "2428212            0.00        0  \n",
       "1830914       250976.31        0  \n",
       "1305892      1082189.73        0  "
      ]
     },
     "execution_count": 13,
     "metadata": {},
     "output_type": "execute_result"
    }
   ],
   "source": [
    "df.sample(10)"
   ]
  },
  {
   "cell_type": "code",
   "execution_count": 14,
   "id": "0614f518-8676-4b34-a3ae-ae5229d88476",
   "metadata": {},
   "outputs": [],
   "source": [
    "from imblearn.over_sampling import SMOTE\n",
    "#There is a lot of class imbalance, hence we are using SMOTE for upsampling\n",
    "\n",
    "x = df.drop(columns = ['isFraud'], axis=1)\n",
    "y = df['isFraud']\n",
    "\n",
    "smote = SMOTE(random_state=42)\n",
    "X, Y = smote.fit_resample(x, y)"
   ]
  },
  {
   "cell_type": "code",
   "execution_count": 15,
   "id": "8ac80321-0452-45db-9c79-b9a1e30b31d0",
   "metadata": {},
   "outputs": [
    {
     "name": "stdout",
     "output_type": "stream",
     "text": [
      "isFraud\n",
      "0    6354407\n",
      "1    6354407\n",
      "Name: count, dtype: int64\n"
     ]
    }
   ],
   "source": [
    "print(Y.value_counts()) #class imbalance fixed"
   ]
  },
  {
   "cell_type": "code",
   "execution_count": 16,
   "id": "5b435aec-34b8-4251-ac46-565223703a96",
   "metadata": {},
   "outputs": [],
   "source": [
    "X_train, X_test, Y_train, Y_test = train_test_split(X, Y, test_size=0.3, random_state=42) #Dividing the dataset into training and testing set in the ratio 70:30"
   ]
  },
  {
   "cell_type": "code",
   "execution_count": 17,
   "id": "d46b9942-d305-4fc1-9318-267cd2a877ce",
   "metadata": {},
   "outputs": [],
   "source": [
    "#scaling the numerical features\n",
    "scaler = StandardScaler()\n",
    "X_train_scaled = scaler.fit_transform(X_train)\n",
    "X_test_scaled = scaler.transform(X_test)"
   ]
  },
  {
   "cell_type": "code",
   "execution_count": 18,
   "id": "a7dc873f-ec0f-455d-8195-e0a6ccf641a7",
   "metadata": {},
   "outputs": [
    {
     "name": "stderr",
     "output_type": "stream",
     "text": [
      "2024-02-26 07:36:29.780603: I tensorflow/core/common_runtime/process_util.cc:146] Creating new thread pool with default inter op setting: 2. Tune using inter_op_parallelism_threads for best performance.\n"
     ]
    }
   ],
   "source": [
    "# Define the MLP model architecture\n",
    "model = keras.Sequential([\n",
    "    layers.Dense(64, activation='relu', input_shape=(X_train_scaled.shape[1],)),\n",
    "    layers.Dense(32, activation='relu'),\n",
    "    layers.Dense(1, activation='sigmoid')\n",
    "])"
   ]
  },
  {
   "cell_type": "code",
   "execution_count": 19,
   "id": "a6e70301-8bad-4448-bd63-e4cbe3a86acc",
   "metadata": {},
   "outputs": [],
   "source": [
    "# Compile the model\n",
    "model.compile(optimizer='adam', loss='binary_crossentropy', metrics=['accuracy'])"
   ]
  },
  {
   "cell_type": "code",
   "execution_count": null,
   "id": "da5c85e3-e476-4dc5-ac31-0cfd323262b0",
   "metadata": {},
   "outputs": [
    {
     "name": "stdout",
     "output_type": "stream",
     "text": [
      "Epoch 1/10\n",
      " 39203/222405 [====>.........................] - ETA: 13:18 - loss: 0.0848 - accuracy: 0.9690"
     ]
    }
   ],
   "source": [
    "# Train the model\n",
    "model.fit(X_train_scaled, Y_train, epochs=10, batch_size=32, validation_split=0.2)"
   ]
  },
  {
   "cell_type": "code",
   "execution_count": null,
   "id": "eae7966b-a4cf-4a61-933b-1f7c0bdcb22b",
   "metadata": {},
   "outputs": [],
   "source": [
    "# Evaluate the model\n",
    "Y_pred = model.predict(X_test_scaled)\n",
    "Y_pred_binary = (Y_pred > 0.5).astype(int)"
   ]
  },
  {
   "cell_type": "code",
   "execution_count": null,
   "id": "a528c140-12ea-4b7e-b0ac-9dca7f576c9d",
   "metadata": {},
   "outputs": [],
   "source": [
    "#Evaluation metrics\n",
    "accuracy = accuracy_score(Y_test, Y_pred_binary)\n",
    "precision = precision_score(Y_test, Y_pred_binary)\n",
    "recall = recall_score(Y_test, Y_pred_binary)\n",
    "f1 = f1_score(Y_test, Y_pred_binary)\n",
    "roc_auc = roc_auc_score(Y_test, Y_pred)\n",
    "conf_matrix = confusion_matrix(Y_test, Y_pred_binary)"
   ]
  },
  {
   "cell_type": "code",
   "execution_count": null,
   "id": "cbcdaaa3-b234-460f-9002-a8dc0ef3d7f5",
   "metadata": {},
   "outputs": [],
   "source": [
    "#Printing the evaluation metrics\n",
    "print(\"Accuracy:\", accuracy)\n",
    "print(\"Precision:\", precision)\n",
    "print(\"Recall:\", recall)\n",
    "print(\"F1 Score:\", f1)\n",
    "print(\"ROC AUC Score:\", roc_auc)\n",
    "print(\"Confusion Matrix:\\n\", conf_matrix)"
   ]
  },
  {
   "cell_type": "code",
   "execution_count": null,
   "id": "ca461a77-8004-45cd-9b04-563348bd93c6",
   "metadata": {},
   "outputs": [],
   "source": [
    "# Plotting Precision-Recall Curve\n",
    "precision, recall, _ = precision_recall_curve(y_test, y_pred)\n",
    "plt.plot(recall, precision, marker='.')\n",
    "plt.xlabel('Recall')\n",
    "plt.ylabel('Precision')\n",
    "plt.title('Precision-Recall Curve')\n",
    "plt.show()"
   ]
  }
 ],
 "metadata": {
  "kernelspec": {
   "display_name": "Python 3 (ipykernel)",
   "language": "python",
   "name": "python3"
  },
  "language_info": {
   "codemirror_mode": {
    "name": "ipython",
    "version": 3
   },
   "file_extension": ".py",
   "mimetype": "text/x-python",
   "name": "python",
   "nbconvert_exporter": "python",
   "pygments_lexer": "ipython3",
   "version": "3.11.5"
  }
 },
 "nbformat": 4,
 "nbformat_minor": 5
}
